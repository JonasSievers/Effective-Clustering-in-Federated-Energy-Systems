{
 "cells": [
  {
   "cell_type": "code",
   "execution_count": 1,
   "metadata": {},
   "outputs": [],
   "source": [
    "import pandas as pd\n",
    "\n",
    "# Load data\n",
    "price_df = pd.read_csv(\"processed_price.csv\", header=0)\n",
    "pv_df = pd.read_csv(\"2010-2013 PV_processed.csv\", header=0)\n",
    "emissions_df = pd.read_csv(\"Emission_Intensity_dataset.csv\", header=0)\n",
    "totalload_df = pd.read_csv(\"2010-2013 Totalload_processed.csv\", header=0)\n",
    "grossload_df = pd.read_csv(\"2010-2013 Grossload_processed.csv\", header=0)\n",
    "\n",
    "\n",
    "#Rename\n",
    "pv_df.columns = [col.replace('User', 'pv_') for col in pv_df.columns]\n",
    "totalload_df.columns = [col.replace('User', 'load_') for col in totalload_df.columns]\n",
    "grossload_df.columns = [col.replace('User', 'load_') for col in grossload_df.columns]\n",
    "\n",
    "\n",
    "#Concat to final df\n",
    "final_df = pd.DataFrame()\n",
    "final_df[\"price\"] = price_df[\"Price\"]\n",
    "final_df[\"emissions\"] = emissions_df[\"emissions\"]\n",
    "final_df = pd.concat([final_df, totalload_df, pv_df], axis=1)\n",
    "\n",
    "final_df.to_csv(\"../Final_Energy_dataset.csv\", sep=',', index=False, encoding='utf-8')"
   ]
  }
 ],
 "metadata": {
  "kernelspec": {
   "display_name": ".venv",
   "language": "python",
   "name": "python3"
  },
  "language_info": {
   "codemirror_mode": {
    "name": "ipython",
    "version": 3
   },
   "file_extension": ".py",
   "mimetype": "text/x-python",
   "name": "python",
   "nbconvert_exporter": "python",
   "pygments_lexer": "ipython3",
   "version": "3.10.0"
  }
 },
 "nbformat": 4,
 "nbformat_minor": 2
}
