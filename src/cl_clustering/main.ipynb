{
 "cells": [
  {
   "cell_type": "code",
   "execution_count": 1,
   "metadata": {},
   "outputs": [],
   "source": [
    "import pandas as pd\n",
    "import torch\n",
    "import CDCC.runner as runner\n",
    "from CDCC.data import CustomTestDataset"
   ]
  },
  {
   "cell_type": "code",
   "execution_count": 2,
   "metadata": {},
   "outputs": [],
   "source": [
    "dataset_train = pd.read_csv('data_train.csv')\n",
    "dataset_train.drop(columns=['Unnamed: 0'], inplace=True)\n",
    "dataset_train = pd.DataFrame(torch.Tensor(dataset_train.T.values).reshape(600,17520)).T\n",
    "dataset_train = dataset_train.groupby(dataset_train.index % 336).mean()\n",
    "dataset_train = torch.Tensor(dataset_train.T.values).reshape(600,1,336)"
   ]
  },
  {
   "cell_type": "code",
   "execution_count": 3,
   "metadata": {},
   "outputs": [
    {
     "name": "stdout",
     "output_type": "stream",
     "text": [
      "1 / 30 \t loss: 9.863080978393555\n",
      "2 / 30 \t loss: 9.485576629638672\n",
      "3 / 30 \t loss: 9.076386451721191\n",
      "4 / 30 \t loss: 8.748104095458984\n",
      "5 / 30 \t loss: 8.365872383117676\n",
      "6 / 30 \t loss: 8.15212345123291\n",
      "7 / 30 \t loss: 8.019923210144043\n",
      "8 / 30 \t loss: 7.961786270141602\n",
      "9 / 30 \t loss: 7.8888726234436035\n",
      "10 / 30 \t loss: 7.846738338470459\n",
      "11 / 30 \t loss: 7.769567489624023\n",
      "12 / 30 \t loss: 7.7394890785217285\n",
      "13 / 30 \t loss: 7.669300556182861\n",
      "14 / 30 \t loss: 7.609552383422852\n",
      "15 / 30 \t loss: 7.594563961029053\n",
      "16 / 30 \t loss: 7.573794841766357\n",
      "17 / 30 \t loss: 7.571812152862549\n",
      "18 / 30 \t loss: 7.527832984924316\n",
      "19 / 30 \t loss: 7.4812188148498535\n",
      "20 / 30 \t loss: 7.44490909576416\n",
      "21 / 30 \t loss: 7.449214458465576\n",
      "22 / 30 \t loss: 7.44536828994751\n",
      "23 / 30 \t loss: 7.387885093688965\n",
      "24 / 30 \t loss: 7.4095916748046875\n",
      "25 / 30 \t loss: 7.381075382232666\n",
      "26 / 30 \t loss: 7.381582260131836\n",
      "27 / 30 \t loss: 7.384144306182861\n",
      "28 / 30 \t loss: 7.42505407333374\n",
      "29 / 30 \t loss: 7.37493371963501\n",
      "30 / 30 \t loss: 7.3964409828186035\n"
     ]
    },
    {
     "data": {
      "text/plain": [
       "<torch.utils.data.dataloader.DataLoader at 0x28c776d9810>"
      ]
     },
     "execution_count": 3,
     "metadata": {},
     "output_type": "execute_result"
    }
   ],
   "source": [
    "cdcc_runner = runner.runner()\n",
    "cdcc_runner.train(dataset_train)"
   ]
  },
  {
   "cell_type": "code",
   "execution_count": 7,
   "metadata": {},
   "outputs": [
    {
     "data": {
      "text/plain": [
       "array([2, 2, 0, 2, 0, 0, 2, 2, 0, 2, 2, 2, 2, 2, 0, 2, 0, 0, 0, 0, 0, 2,\n",
       "       3, 3, 3, 0, 3, 0, 3, 2, 3, 3, 3, 0, 3, 3, 3, 0, 2, 1, 1, 3, 3, 3,\n",
       "       0, 3, 2, 3, 3, 3, 3, 3, 3, 3, 3, 3, 2, 2, 2, 2, 2, 2, 2, 3, 0, 3,\n",
       "       2, 3, 3, 0, 3, 0, 3, 3, 3, 2, 0, 3, 3, 2, 2, 0, 2, 0, 2, 2, 2, 2,\n",
       "       0, 2, 0, 2, 2, 2, 2, 2, 0, 2, 0, 2], dtype=int64)"
      ]
     },
     "execution_count": 7,
     "metadata": {},
     "output_type": "execute_result"
    }
   ],
   "source": [
    "dataset_test = pd.read_csv('data_test.csv')\n",
    "dataset_test.drop(columns=['Unnamed: 0'], inplace=True)\n",
    "dataset_test = pd.DataFrame(torch.Tensor(dataset_test.T.values).reshape(100,17520)).T\n",
    "dataset_test = dataset_test.groupby(dataset_test.index % 336).mean()\n",
    "dataset_test = torch.Tensor(dataset_test.T.values).reshape(100,1,336)\n",
    "\n",
    "testset = CustomTestDataset(dataset_test)\n",
    "test_loader = torch.utils.data.DataLoader(dataset=testset, batch_size=100, shuffle=False)\n",
    "\n",
    "cdcc_runner.predict(test_loader)"
   ]
  }
 ],
 "metadata": {
  "kernelspec": {
   "display_name": ".venv",
   "language": "python",
   "name": "python3"
  },
  "language_info": {
   "codemirror_mode": {
    "name": "ipython",
    "version": 3
   },
   "file_extension": ".py",
   "mimetype": "text/x-python",
   "name": "python",
   "nbconvert_exporter": "python",
   "pygments_lexer": "ipython3",
   "version": "3.11.7"
  }
 },
 "nbformat": 4,
 "nbformat_minor": 2
}
