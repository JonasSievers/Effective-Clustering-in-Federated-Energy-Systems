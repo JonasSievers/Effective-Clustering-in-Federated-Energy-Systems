{
 "cells": [
  {
   "cell_type": "code",
   "execution_count": 1,
   "metadata": {},
   "outputs": [],
   "source": [
    "#Import\n",
    "import numpy as np\n",
    "import pandas as pd\n",
    "import matplotlib.pyplot as plt\n",
    "from tslearn.clustering import silhouette_score, TimeSeriesKMeans\n",
    "import pickle\n",
    "import pywt\n",
    "\n",
    "\n",
    "import sys\n",
    "sys.path.insert(0, '..')\n",
    "from utils.clustering import *"
   ]
  },
  {
   "cell_type": "code",
   "execution_count": 2,
   "metadata": {},
   "outputs": [
    {
     "data": {
      "text/html": [
       "<div>\n",
       "<style scoped>\n",
       "    .dataframe tbody tr th:only-of-type {\n",
       "        vertical-align: middle;\n",
       "    }\n",
       "\n",
       "    .dataframe tbody tr th {\n",
       "        vertical-align: top;\n",
       "    }\n",
       "\n",
       "    .dataframe thead th {\n",
       "        text-align: right;\n",
       "    }\n",
       "</style>\n",
       "<table border=\"1\" class=\"dataframe\">\n",
       "  <thead>\n",
       "    <tr style=\"text-align: right;\">\n",
       "      <th></th>\n",
       "      <th>Date</th>\n",
       "      <th>prosumption_1</th>\n",
       "      <th>prosumption_2</th>\n",
       "      <th>prosumption_3</th>\n",
       "      <th>prosumption_4</th>\n",
       "      <th>prosumption_5</th>\n",
       "      <th>prosumption_6</th>\n",
       "      <th>prosumption_7</th>\n",
       "      <th>prosumption_8</th>\n",
       "      <th>prosumption_9</th>\n",
       "      <th>...</th>\n",
       "      <th>prosumption_21</th>\n",
       "      <th>prosumption_22</th>\n",
       "      <th>prosumption_23</th>\n",
       "      <th>prosumption_24</th>\n",
       "      <th>prosumption_25</th>\n",
       "      <th>prosumption_26</th>\n",
       "      <th>prosumption_27</th>\n",
       "      <th>prosumption_28</th>\n",
       "      <th>prosumption_29</th>\n",
       "      <th>prosumption_30</th>\n",
       "    </tr>\n",
       "  </thead>\n",
       "  <tbody>\n",
       "    <tr>\n",
       "      <th>0</th>\n",
       "      <td>2010-07-01 00:30:00</td>\n",
       "      <td>1.553</td>\n",
       "      <td>0.085</td>\n",
       "      <td>2.698</td>\n",
       "      <td>0.075</td>\n",
       "      <td>1.917</td>\n",
       "      <td>0.044</td>\n",
       "      <td>1.831</td>\n",
       "      <td>0.124</td>\n",
       "      <td>0.033</td>\n",
       "      <td>...</td>\n",
       "      <td>0.896</td>\n",
       "      <td>0.072</td>\n",
       "      <td>0.111</td>\n",
       "      <td>0.146</td>\n",
       "      <td>0.1</td>\n",
       "      <td>0.375</td>\n",
       "      <td>0.265</td>\n",
       "      <td>0.1</td>\n",
       "      <td>0.103</td>\n",
       "      <td>2.461</td>\n",
       "    </tr>\n",
       "  </tbody>\n",
       "</table>\n",
       "<p>1 rows × 31 columns</p>\n",
       "</div>"
      ],
      "text/plain": [
       "                 Date  prosumption_1  prosumption_2  prosumption_3  \\\n",
       "0 2010-07-01 00:30:00          1.553          0.085          2.698   \n",
       "\n",
       "   prosumption_4  prosumption_5  prosumption_6  prosumption_7  prosumption_8  \\\n",
       "0          0.075          1.917          0.044          1.831          0.124   \n",
       "\n",
       "   prosumption_9  ...  prosumption_21  prosumption_22  prosumption_23  \\\n",
       "0          0.033  ...           0.896           0.072           0.111   \n",
       "\n",
       "   prosumption_24  prosumption_25  prosumption_26  prosumption_27  \\\n",
       "0           0.146             0.1           0.375           0.265   \n",
       "\n",
       "   prosumption_28  prosumption_29  prosumption_30  \n",
       "0             0.1           0.103           2.461  \n",
       "\n",
       "[1 rows x 31 columns]"
      ]
     },
     "execution_count": 2,
     "metadata": {},
     "output_type": "execute_result"
    }
   ],
   "source": [
    "#Get First Year Prosumption Data\n",
    "final_prosumption = setup_ausgrid_prosumption_data(file_path= \"../../data/Final_Energy_dataset.csv\")\n",
    "final_prosumption.head(1)"
   ]
  },
  {
   "cell_type": "markdown",
   "metadata": {},
   "source": [
    "# K-Means (Prosumption mean over 48 days)\n",
    "We tested: \n",
    "- KMeans with Euclidean distance, while aligning the data with DFT, DWT, or Autocorrelation\n",
    "- KMeans with DTW/ Euclidean using the mean of each week (52*48)\n",
    "- KMeans with DTW/ Euclidean using the first day of each month (12*48)\n",
    "- KMeans with DTW/ Euclidean using the mean of each month (12*48)\n",
    "- KMeans with DTW/ Euclidean using the mean days of the week (7*48)\n",
    "- KMeans with DTW/ Euclidean using the mean day (48)\n",
    "\n",
    "Best solution: \n",
    "- KMeans with DTW using the mean day (48)"
   ]
  },
  {
   "cell_type": "code",
   "execution_count": 4,
   "metadata": {},
   "outputs": [],
   "source": [
    "kmeans_data = final_prosumption.copy()\n",
    "kmeans_data = scaled_mean_over_48_timesteps(kmeans_data)"
   ]
  },
  {
   "cell_type": "code",
   "execution_count": null,
   "metadata": {},
   "outputs": [],
   "source": [
    "#for i in range(2,30):\n",
    "#    print(f\"Clustersize: {i}\")\n",
    "#    kmeans_cluster = TimeSeriesKMeans(n_clusters=i, metric=\"dtw\", n_init=3, n_jobs=-1)\n",
    "#    kmeans_cluster.fit_predict(kmeans_data)\n",
    "#    pickle.dump(kmeans_cluster, open(f\"finalclustering/kmeans_mean_timeslot_{i}.pkl\", \"wb\"))"
   ]
  }
 ],
 "metadata": {
  "kernelspec": {
   "display_name": ".venv",
   "language": "python",
   "name": "python3"
  },
  "language_info": {
   "codemirror_mode": {
    "name": "ipython",
    "version": 3
   },
   "file_extension": ".py",
   "mimetype": "text/x-python",
   "name": "python",
   "nbconvert_exporter": "python",
   "pygments_lexer": "ipython3",
   "version": "3.10.0"
  }
 },
 "nbformat": 4,
 "nbformat_minor": 2
}
