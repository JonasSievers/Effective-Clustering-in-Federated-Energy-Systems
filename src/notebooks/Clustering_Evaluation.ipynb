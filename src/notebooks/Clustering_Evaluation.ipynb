{
 "cells": [
  {
   "cell_type": "markdown",
   "metadata": {},
   "source": [
    "# Load libraries"
   ]
  },
  {
   "cell_type": "code",
   "execution_count": 1,
   "metadata": {},
   "outputs": [],
   "source": [
    "import numpy as np\n",
    "import pandas as pd\n",
    "import matplotlib.pyplot as plt\n",
    "from tslearn.clustering import silhouette_score, TimeSeriesKMeans\n",
    "import pickle\n",
    "import pywt\n",
    "from tslearn.preprocessing import TimeSeriesScalerMinMax"
   ]
  },
  {
   "cell_type": "markdown",
   "metadata": {},
   "source": [
    "# Load dataset"
   ]
  },
  {
   "cell_type": "code",
   "execution_count": 6,
   "metadata": {},
   "outputs": [],
   "source": [
    "data = pd.read_csv(\"../../data/Final_Energy_dataset.csv\")\n",
    "data['Date'] = pd.to_datetime(data['Date'])\n",
    "\n",
    "# Prepare test dataset\n",
    "data_test = data[((data['Date'].dt.month > 6) & (data['Date'].dt.year == 2011)) \n",
    "            | ((data['Date'].dt.month <= 6) & (data['Date'].dt.year == 2012))]\n",
    "load_test = data_test[[\"load_1\",\"load_2\",\"load_3\",\"load_4\",\"load_5\",\"load_6\",\"load_7\",\"load_8\",\"load_9\",\"load_10\",\n",
    "                        \"load_11\",\"load_12\",\"load_13\",\"load_14\",\"load_15\",\"load_16\",\"load_17\",\"load_18\",\"load_19\",\"load_20\",\n",
    "                        \"load_21\",\"load_22\",\"load_23\",\"load_24\",\"load_25\",\"load_26\",\"load_27\",\"load_28\",\"load_29\",\"load_30\"]]\n",
    "pv_test = data_test[[\"pv_1\",\"pv_2\",\"pv_3\",\"pv_4\",\"pv_5\",\"pv_6\",\"pv_7\",\"pv_8\",\"pv_9\",\"pv_10\",\n",
    "                        \"pv_11\",\"pv_12\",\"pv_13\",\"pv_14\",\"pv_15\",\"pv_16\",\"pv_17\",\"pv_18\",\"pv_19\",\"pv_20\",\n",
    "                        \"pv_21\",\"pv_22\",\"pv_23\",\"pv_24\",\"pv_25\",\"pv_26\",\"pv_27\",\"pv_28\",\"pv_29\",\"pv_30\"]]\n",
    "test_prosumption = pd.DataFrame()\n",
    "column_mapping = {f\"load_{i}\": f\"pv_{i}\" for i in range(1, 31)}\n",
    "rename_mapping = {f\"load_{i}\": f\"prosumption_{i}\" for i in range(1, 31)}\n",
    "for col1, col2 in column_mapping.items():\n",
    "    test_prosumption[col1] = load_test[col1] - pv_test[col2]\n",
    "test_prosumption.rename(columns=rename_mapping, inplace=True)\n",
    "test_prosumption = test_prosumption.reset_index(drop=True).transpose()"
   ]
  },
  {
   "cell_type": "markdown",
   "metadata": {},
   "source": [
    "# Cluster #1 - First day of each month "
   ]
  },
  {
   "cell_type": "code",
   "execution_count": 7,
   "metadata": {},
   "outputs": [],
   "source": [
    "cluster_data = data[((data['Date'].dt.day == 1) & (data['Date'].dt.month > 6) & (data['Date'].dt.year == 2010)) \n",
    "            | ((data['Date'].dt.day == 1) & (data['Date'].dt.month <= 6) & (data['Date'].dt.year == 2011))]\n",
    "load_cluster = cluster_data[[\"load_1\",\"load_2\",\"load_3\",\"load_4\",\"load_5\",\"load_6\",\"load_7\",\"load_8\",\"load_9\",\"load_10\",\n",
    "                        \"load_11\",\"load_12\",\"load_13\",\"load_14\",\"load_15\",\"load_16\",\"load_17\",\"load_18\",\"load_19\",\"load_20\",\n",
    "                        \"load_21\",\"load_22\",\"load_23\",\"load_24\",\"load_25\",\"load_26\",\"load_27\",\"load_28\",\"load_29\",\"load_30\"]]\n",
    "pv_cluster = cluster_data[[\"pv_1\",\"pv_2\",\"pv_3\",\"pv_4\",\"pv_5\",\"pv_6\",\"pv_7\",\"pv_8\",\"pv_9\",\"pv_10\",\n",
    "                    \"pv_11\",\"pv_12\",\"pv_13\",\"pv_14\",\"pv_15\",\"pv_16\",\"pv_17\",\"pv_18\",\"pv_19\",\"pv_20\",\n",
    "                    \"pv_21\",\"pv_22\",\"pv_23\",\"pv_24\",\"pv_25\",\"pv_26\",\"pv_27\",\"pv_28\",\"pv_29\",\"pv_30\"]]\n",
    "cluster_prosumption = pd.DataFrame()\n",
    "for col1, col2 in column_mapping.items():\n",
    "    cluster_prosumption[col1] = load_cluster[col1] - pv_cluster[col2]\n",
    "cluster_prosumption.rename(columns=rename_mapping, inplace=True)\n",
    "cluster_prosumption = cluster_prosumption.reset_index(drop=True).transpose()\n",
    "cluster_prosumption = TimeSeriesScalerMinMax().fit_transform(cluster_prosumption.values.reshape((30,575,1)))"
   ]
  },
  {
   "cell_type": "markdown",
   "metadata": {},
   "source": [
    "## K-means DTW"
   ]
  },
  {
   "cell_type": "code",
   "execution_count": 5,
   "metadata": {},
   "outputs": [
    {
     "name": "stdout",
     "output_type": "stream",
     "text": [
      "Clustersize: 2\n",
      "Clustersize: 3\n",
      "Clustersize: 4\n",
      "Clustersize: 5\n",
      "Clustersize: 6\n",
      "Clustersize: 7\n",
      "Clustersize: 8\n",
      "Clustersize: 9\n",
      "Clustersize: 10\n",
      "Clustersize: 11\n",
      "Clustersize: 12\n",
      "Clustersize: 13\n",
      "Clustersize: 14\n",
      "Clustersize: 15\n",
      "Clustersize: 16\n",
      "Clustersize: 17\n",
      "Clustersize: 18\n",
      "Clustersize: 19\n",
      "Clustersize: 20\n",
      "Clustersize: 21\n",
      "Clustersize: 22\n",
      "Clustersize: 23\n",
      "Clustersize: 24\n",
      "Clustersize: 25\n",
      "Clustersize: 26\n",
      "Clustersize: 27\n",
      "Clustersize: 28\n",
      "Clustersize: 29\n"
     ]
    }
   ],
   "source": [
    "for i in range(2,30):\n",
    "    print(f\"Clustersize: {i}\")\n",
    "    kmeans_cluster = TimeSeriesKMeans(n_clusters=i, metric=\"dtw\", n_init=3, n_jobs=-1)\n",
    "    kmeans_cluster.fit_predict(cluster_prosumption)\n",
    "    pickle.dump(kmeans_cluster, open(f\"clustering/kmeans_fst_days_{i}.pkl\", \"wb\"))"
   ]
  },
  {
   "cell_type": "markdown",
   "metadata": {},
   "source": [
    "## DWT K-means Euclidean"
   ]
  },
  {
   "cell_type": "code",
   "execution_count": 9,
   "metadata": {},
   "outputs": [
    {
     "name": "stdout",
     "output_type": "stream",
     "text": [
      "Clustersize: 2\n",
      "Clustersize: 3\n",
      "Clustersize: 4\n",
      "Clustersize: 5\n",
      "Clustersize: 6\n",
      "Clustersize: 7\n",
      "Clustersize: 8\n",
      "Clustersize: 9\n",
      "Clustersize: 10\n",
      "Clustersize: 11\n",
      "Clustersize: 12\n",
      "Clustersize: 13\n",
      "Clustersize: 14\n",
      "Clustersize: 15\n",
      "Clustersize: 16\n",
      "Clustersize: 17\n",
      "Clustersize: 18\n",
      "Clustersize: 19\n",
      "Clustersize: 20\n",
      "Clustersize: 21\n",
      "Clustersize: 22\n",
      "Clustersize: 23\n",
      "Clustersize: 24\n",
      "Clustersize: 25\n",
      "Clustersize: 26\n",
      "Clustersize: 27\n",
      "Clustersize: 28\n",
      "Clustersize: 29\n"
     ]
    }
   ],
   "source": [
    "cluster_coeffs = np.empty((30, 576, 1))\n",
    "for i in range(0,30):\n",
    "    ts = cluster_prosumption[i].flatten() \n",
    "    low, high = pywt.dwt(ts, wavelet='db1')\n",
    "    cluster_coeffs[i] = np.concatenate((low.reshape(low.shape[0],1), high.reshape(high.shape[0],1)))\n",
    "for i in range(2,30):\n",
    "    print(f\"Clustersize: {i}\")\n",
    "    kmeans_cluster = TimeSeriesKMeans(n_clusters=i, metric=\"euclidean\", n_init=3, n_jobs=-1)\n",
    "    kmeans_cluster.fit_predict(cluster_coeffs)\n",
    "    pickle.dump(kmeans_cluster, open(f\"clustering/kmeans_fst_days_coeffs_{i}.pkl\", \"wb\"))"
   ]
  },
  {
   "cell_type": "code",
   "execution_count": 14,
   "metadata": {},
   "outputs": [
    {
     "data": {
      "text/html": [
       "<div>\n",
       "<style scoped>\n",
       "    .dataframe tbody tr th:only-of-type {\n",
       "        vertical-align: middle;\n",
       "    }\n",
       "\n",
       "    .dataframe tbody tr th {\n",
       "        vertical-align: top;\n",
       "    }\n",
       "\n",
       "    .dataframe thead th {\n",
       "        text-align: right;\n",
       "    }\n",
       "</style>\n",
       "<table border=\"1\" class=\"dataframe\">\n",
       "  <thead>\n",
       "    <tr style=\"text-align: right;\">\n",
       "      <th></th>\n",
       "      <th>fst_day</th>\n",
       "      <th>fst_day_dwt</th>\n",
       "    </tr>\n",
       "  </thead>\n",
       "  <tbody>\n",
       "    <tr>\n",
       "      <th>2</th>\n",
       "      <td>0.264845</td>\n",
       "      <td>0.282119</td>\n",
       "    </tr>\n",
       "    <tr>\n",
       "      <th>3</th>\n",
       "      <td>0.135974</td>\n",
       "      <td>0.111236</td>\n",
       "    </tr>\n",
       "    <tr>\n",
       "      <th>4</th>\n",
       "      <td>0.096199</td>\n",
       "      <td>0.089984</td>\n",
       "    </tr>\n",
       "    <tr>\n",
       "      <th>5</th>\n",
       "      <td>0.093592</td>\n",
       "      <td>0.056321</td>\n",
       "    </tr>\n",
       "    <tr>\n",
       "      <th>6</th>\n",
       "      <td>0.083246</td>\n",
       "      <td>0.073366</td>\n",
       "    </tr>\n",
       "    <tr>\n",
       "      <th>7</th>\n",
       "      <td>0.054042</td>\n",
       "      <td>0.036140</td>\n",
       "    </tr>\n",
       "    <tr>\n",
       "      <th>8</th>\n",
       "      <td>0.054108</td>\n",
       "      <td>0.065622</td>\n",
       "    </tr>\n",
       "    <tr>\n",
       "      <th>9</th>\n",
       "      <td>0.092803</td>\n",
       "      <td>0.045366</td>\n",
       "    </tr>\n",
       "    <tr>\n",
       "      <th>10</th>\n",
       "      <td>0.085894</td>\n",
       "      <td>0.057868</td>\n",
       "    </tr>\n",
       "    <tr>\n",
       "      <th>11</th>\n",
       "      <td>0.077988</td>\n",
       "      <td>0.038978</td>\n",
       "    </tr>\n",
       "    <tr>\n",
       "      <th>12</th>\n",
       "      <td>0.084110</td>\n",
       "      <td>0.045461</td>\n",
       "    </tr>\n",
       "    <tr>\n",
       "      <th>13</th>\n",
       "      <td>0.065112</td>\n",
       "      <td>0.048510</td>\n",
       "    </tr>\n",
       "    <tr>\n",
       "      <th>14</th>\n",
       "      <td>0.084544</td>\n",
       "      <td>0.036137</td>\n",
       "    </tr>\n",
       "    <tr>\n",
       "      <th>15</th>\n",
       "      <td>0.067964</td>\n",
       "      <td>0.048616</td>\n",
       "    </tr>\n",
       "    <tr>\n",
       "      <th>16</th>\n",
       "      <td>0.046127</td>\n",
       "      <td>0.053425</td>\n",
       "    </tr>\n",
       "    <tr>\n",
       "      <th>17</th>\n",
       "      <td>0.044156</td>\n",
       "      <td>0.049089</td>\n",
       "    </tr>\n",
       "    <tr>\n",
       "      <th>18</th>\n",
       "      <td>0.049313</td>\n",
       "      <td>0.051730</td>\n",
       "    </tr>\n",
       "    <tr>\n",
       "      <th>19</th>\n",
       "      <td>0.052932</td>\n",
       "      <td>0.057976</td>\n",
       "    </tr>\n",
       "    <tr>\n",
       "      <th>20</th>\n",
       "      <td>0.040933</td>\n",
       "      <td>0.033975</td>\n",
       "    </tr>\n",
       "    <tr>\n",
       "      <th>21</th>\n",
       "      <td>0.048489</td>\n",
       "      <td>0.040734</td>\n",
       "    </tr>\n",
       "    <tr>\n",
       "      <th>22</th>\n",
       "      <td>0.044347</td>\n",
       "      <td>0.032974</td>\n",
       "    </tr>\n",
       "    <tr>\n",
       "      <th>23</th>\n",
       "      <td>0.038213</td>\n",
       "      <td>0.027549</td>\n",
       "    </tr>\n",
       "    <tr>\n",
       "      <th>24</th>\n",
       "      <td>0.027965</td>\n",
       "      <td>0.047247</td>\n",
       "    </tr>\n",
       "    <tr>\n",
       "      <th>25</th>\n",
       "      <td>0.028370</td>\n",
       "      <td>0.044666</td>\n",
       "    </tr>\n",
       "    <tr>\n",
       "      <th>26</th>\n",
       "      <td>0.011925</td>\n",
       "      <td>0.042413</td>\n",
       "    </tr>\n",
       "    <tr>\n",
       "      <th>27</th>\n",
       "      <td>0.012479</td>\n",
       "      <td>0.035868</td>\n",
       "    </tr>\n",
       "    <tr>\n",
       "      <th>28</th>\n",
       "      <td>0.004987</td>\n",
       "      <td>0.027212</td>\n",
       "    </tr>\n",
       "    <tr>\n",
       "      <th>29</th>\n",
       "      <td>0.001636</td>\n",
       "      <td>0.017203</td>\n",
       "    </tr>\n",
       "  </tbody>\n",
       "</table>\n",
       "</div>"
      ],
      "text/plain": [
       "     fst_day  fst_day_dwt\n",
       "2   0.264845     0.282119\n",
       "3   0.135974     0.111236\n",
       "4   0.096199     0.089984\n",
       "5   0.093592     0.056321\n",
       "6   0.083246     0.073366\n",
       "7   0.054042     0.036140\n",
       "8   0.054108     0.065622\n",
       "9   0.092803     0.045366\n",
       "10  0.085894     0.057868\n",
       "11  0.077988     0.038978\n",
       "12  0.084110     0.045461\n",
       "13  0.065112     0.048510\n",
       "14  0.084544     0.036137\n",
       "15  0.067964     0.048616\n",
       "16  0.046127     0.053425\n",
       "17  0.044156     0.049089\n",
       "18  0.049313     0.051730\n",
       "19  0.052932     0.057976\n",
       "20  0.040933     0.033975\n",
       "21  0.048489     0.040734\n",
       "22  0.044347     0.032974\n",
       "23  0.038213     0.027549\n",
       "24  0.027965     0.047247\n",
       "25  0.028370     0.044666\n",
       "26  0.011925     0.042413\n",
       "27  0.012479     0.035868\n",
       "28  0.004987     0.027212\n",
       "29  0.001636     0.017203"
      ]
     },
     "execution_count": 14,
     "metadata": {},
     "output_type": "execute_result"
    }
   ],
   "source": [
    "silhouette_scores = {}\n",
    "for i in range(2,30):\n",
    "    kmeans_cluster = pickle.load(open(f\"clustering/kmeans_fst_days_{i}.pkl\", \"rb\"))\n",
    "    silhouette_scores[i] = silhouette_score(cluster_prosumption, kmeans_cluster.labels_, metric='dtw', n_jobs=-1)\n",
    "results = pd.DataFrame(index=silhouette_scores.keys())\n",
    "results['fst_day'] = silhouette_scores.values()\n",
    "\n",
    "silhouette_scores = {}\n",
    "for i in range(2,30):\n",
    "    kmeans_cluster = pickle.load(open(f\"clustering/kmeans_fst_days_coeffs_{i}.pkl\", \"rb\"))\n",
    "    silhouette_scores[i] = silhouette_score(cluster_prosumption, kmeans_cluster.labels_, metric='euclidean', n_jobs=-1)\n",
    "results['fst_day_dwt'] = silhouette_scores.values()"
   ]
  },
  {
   "cell_type": "markdown",
   "metadata": {},
   "source": [
    "# Cluster #2 - Mean day of week -> timeslot"
   ]
  },
  {
   "cell_type": "code",
   "execution_count": 15,
   "metadata": {},
   "outputs": [],
   "source": [
    "cluster_data = data[(data['Date'].dt.year == 2010) | (data['Date'].dt.month <= 6) & (data['Date'].dt.year == 2011)]\n",
    "load_cluster = cluster_data[[\"load_1\",\"load_2\",\"load_3\",\"load_4\",\"load_5\",\"load_6\",\"load_7\",\"load_8\",\"load_9\",\"load_10\",\n",
    "                    \"load_11\",\"load_12\",\"load_13\",\"load_14\",\"load_15\",\"load_16\",\"load_17\",\"load_18\",\"load_19\",\"load_20\",\n",
    "                    \"load_21\",\"load_22\",\"load_23\",\"load_24\",\"load_25\",\"load_26\",\"load_27\",\"load_28\",\"load_29\",\"load_30\"]]\n",
    "pv_cluster = cluster_data[[\"pv_1\",\"pv_2\",\"pv_3\",\"pv_4\",\"pv_5\",\"pv_6\",\"pv_7\",\"pv_8\",\"pv_9\",\"pv_10\",\n",
    "                    \"pv_11\",\"pv_12\",\"pv_13\",\"pv_14\",\"pv_15\",\"pv_16\",\"pv_17\",\"pv_18\",\"pv_19\",\"pv_20\",\n",
    "                    \"pv_21\",\"pv_22\",\"pv_23\",\"pv_24\",\"pv_25\",\"pv_26\",\"pv_27\",\"pv_28\",\"pv_29\",\"pv_30\"]]\n",
    "cluster_prosumption = pd.DataFrame()\n",
    "cluster_prosumption.insert(0, 'Date', cluster_data['Date'], True)\n",
    "for col1, col2 in column_mapping.items():\n",
    "    cluster_prosumption[col1] = load_cluster[col1] - pv_cluster[col2]\n",
    "cluster_prosumption.rename(columns=rename_mapping, inplace=True)\n",
    "cluster_prosumption.insert(0, 'dow', cluster_data['Date'].dt.dayofweek, True)\n",
    "cluster_prosumption.insert(1, 'timeslot', cluster_data['Date'].dt.time, True)\n",
    "cluster_prosumption.drop(columns=['Date'], inplace=True)\n",
    "grouped_prosumption = cluster_prosumption.groupby(['dow','timeslot']).mean()\n",
    "grouped_prosumption = grouped_prosumption.reset_index(drop=True).transpose()\n",
    "grouped_prosumption = TimeSeriesScalerMinMax().fit_transform(grouped_prosumption.values.reshape((30,336,1)))"
   ]
  },
  {
   "cell_type": "markdown",
   "metadata": {},
   "source": [
    "## K-means DTW"
   ]
  },
  {
   "cell_type": "code",
   "execution_count": 8,
   "metadata": {},
   "outputs": [
    {
     "name": "stdout",
     "output_type": "stream",
     "text": [
      "Clustersize: 2\n",
      "Clustersize: 3\n",
      "Clustersize: 4\n",
      "Clustersize: 5\n",
      "Clustersize: 6\n",
      "Clustersize: 7\n",
      "Clustersize: 8\n",
      "Clustersize: 9\n",
      "Clustersize: 10\n",
      "Clustersize: 11\n",
      "Clustersize: 12\n",
      "Clustersize: 13\n",
      "Clustersize: 14\n",
      "Clustersize: 15\n",
      "Clustersize: 16\n",
      "Clustersize: 17\n",
      "Clustersize: 18\n",
      "Clustersize: 19\n",
      "Clustersize: 20\n",
      "Clustersize: 21\n",
      "Clustersize: 22\n",
      "Clustersize: 23\n",
      "Clustersize: 24\n",
      "Clustersize: 25\n",
      "Clustersize: 26\n",
      "Clustersize: 27\n",
      "Clustersize: 28\n",
      "Clustersize: 29\n"
     ]
    }
   ],
   "source": [
    "for i in range(2,30):\n",
    "    print(f\"Clustersize: {i}\")\n",
    "    kmeans_cluster = TimeSeriesKMeans(n_clusters=i, metric=\"dtw\", n_init=3, n_jobs=-1)\n",
    "    kmeans_cluster.fit_predict(grouped_prosumption)\n",
    "    pickle.dump(kmeans_cluster, open(f\"clustering/kmeans_mean_year_{i}.pkl\", \"wb\"))"
   ]
  },
  {
   "cell_type": "markdown",
   "metadata": {},
   "source": [
    "## DWT K-means Euclidean"
   ]
  },
  {
   "cell_type": "code",
   "execution_count": 18,
   "metadata": {},
   "outputs": [
    {
     "name": "stdout",
     "output_type": "stream",
     "text": [
      "Clustersize: 2\n",
      "Clustersize: 3\n",
      "Clustersize: 4\n",
      "Clustersize: 5\n",
      "Clustersize: 6\n",
      "Clustersize: 7\n",
      "Clustersize: 8\n",
      "Clustersize: 9\n",
      "Clustersize: 10\n",
      "Clustersize: 11\n",
      "Clustersize: 12\n",
      "Clustersize: 13\n",
      "Clustersize: 14\n",
      "Clustersize: 15\n",
      "Clustersize: 16\n",
      "Clustersize: 17\n",
      "Clustersize: 18\n",
      "Clustersize: 19\n",
      "Clustersize: 20\n",
      "Clustersize: 21\n",
      "Clustersize: 22\n",
      "Clustersize: 23\n",
      "Clustersize: 24\n",
      "Clustersize: 25\n",
      "Clustersize: 26\n",
      "Clustersize: 27\n",
      "Clustersize: 28\n",
      "Clustersize: 29\n"
     ]
    }
   ],
   "source": [
    "cluster_coeffs = np.empty((30, 336, 1))\n",
    "for i in range(0,30):\n",
    "    ts = grouped_prosumption[i].flatten() \n",
    "    low, high = pywt.dwt(ts, wavelet='db1')\n",
    "    cluster_coeffs[i] = np.concatenate((low.reshape(low.shape[0],1), high.reshape(high.shape[0],1)))\n",
    "for i in range(2,30):\n",
    "    print(f\"Clustersize: {i}\")\n",
    "    kmeans_cluster = TimeSeriesKMeans(n_clusters=i, metric=\"euclidean\", n_init=3, n_jobs=-1)\n",
    "    kmeans_cluster.fit_predict(cluster_coeffs)\n",
    "    pickle.dump(kmeans_cluster, open(f\"clustering/kmeans_mean_year_coeffs_{i}.pkl\", \"wb\"))"
   ]
  },
  {
   "cell_type": "code",
   "execution_count": 19,
   "metadata": {},
   "outputs": [],
   "source": [
    "silhouette_scores = {}\n",
    "for i in range(2,30):\n",
    "    kmeans_cluster = pickle.load(open(f\"clustering/kmeans_mean_year_{i}.pkl\", \"rb\"))\n",
    "    silhouette_scores[i] = silhouette_score(grouped_prosumption, kmeans_cluster.labels_, metric='dtw', n_jobs=-1)\n",
    "results['mean_year'] = silhouette_scores.values()\n",
    "\n",
    "silhouette_scores = {}\n",
    "for i in range(2,30):\n",
    "    kmeans_cluster = pickle.load(open(f\"clustering/kmeans_mean_year_coeffs_{i}.pkl\", \"rb\"))\n",
    "    silhouette_scores[i] = silhouette_score(grouped_prosumption, kmeans_cluster.labels_, metric='euclidean', n_jobs=-1)\n",
    "results['mean_year_dwt'] = silhouette_scores.values()"
   ]
  },
  {
   "cell_type": "markdown",
   "metadata": {},
   "source": [
    "# Cluster #3 - Mean timeslot"
   ]
  },
  {
   "cell_type": "code",
   "execution_count": 20,
   "metadata": {},
   "outputs": [],
   "source": [
    "cluster_data = data[(data['Date'].dt.year == 2010) | (data['Date'].dt.month <= 6) & (data['Date'].dt.year == 2011)]\n",
    "load_cluster = cluster_data[[\"load_1\",\"load_2\",\"load_3\",\"load_4\",\"load_5\",\"load_6\",\"load_7\",\"load_8\",\"load_9\",\"load_10\",\n",
    "                    \"load_11\",\"load_12\",\"load_13\",\"load_14\",\"load_15\",\"load_16\",\"load_17\",\"load_18\",\"load_19\",\"load_20\",\n",
    "                    \"load_21\",\"load_22\",\"load_23\",\"load_24\",\"load_25\",\"load_26\",\"load_27\",\"load_28\",\"load_29\",\"load_30\"]]\n",
    "pv_cluster = cluster_data[[\"pv_1\",\"pv_2\",\"pv_3\",\"pv_4\",\"pv_5\",\"pv_6\",\"pv_7\",\"pv_8\",\"pv_9\",\"pv_10\",\n",
    "                    \"pv_11\",\"pv_12\",\"pv_13\",\"pv_14\",\"pv_15\",\"pv_16\",\"pv_17\",\"pv_18\",\"pv_19\",\"pv_20\",\n",
    "                    \"pv_21\",\"pv_22\",\"pv_23\",\"pv_24\",\"pv_25\",\"pv_26\",\"pv_27\",\"pv_28\",\"pv_29\",\"pv_30\"]]\n",
    "cluster_prosumption = pd.DataFrame()\n",
    "cluster_prosumption.insert(0, 'Date', cluster_data['Date'], True)\n",
    "for col1, col2 in column_mapping.items():\n",
    "    cluster_prosumption[col1] = load_cluster[col1] - pv_cluster[col2]\n",
    "cluster_prosumption.rename(columns=rename_mapping, inplace=True)\n",
    "cluster_prosumption.insert(0, 'timeslot', cluster_data['Date'].dt.time, True)\n",
    "cluster_prosumption.drop(columns=['Date'], inplace=True)\n",
    "grouped_prosumption = cluster_prosumption.groupby(['timeslot']).mean()\n",
    "grouped_prosumption = grouped_prosumption.reset_index(drop=True).transpose()\n",
    "grouped_prosumption = TimeSeriesScalerMinMax().fit_transform(grouped_prosumption.values.reshape((30,48,1)))"
   ]
  },
  {
   "cell_type": "markdown",
   "metadata": {},
   "source": [
    "## K-means DTW"
   ]
  },
  {
   "cell_type": "code",
   "execution_count": 14,
   "metadata": {},
   "outputs": [
    {
     "name": "stdout",
     "output_type": "stream",
     "text": [
      "Clustersize: 2\n",
      "Clustersize: 3\n",
      "Clustersize: 4\n",
      "Clustersize: 5\n",
      "Clustersize: 6\n",
      "Clustersize: 7\n",
      "Clustersize: 8\n",
      "Clustersize: 9\n",
      "Clustersize: 10\n",
      "Clustersize: 11\n",
      "Clustersize: 12\n",
      "Clustersize: 13\n",
      "Clustersize: 14\n",
      "Clustersize: 15\n",
      "Clustersize: 16\n",
      "Clustersize: 17\n",
      "Clustersize: 18\n",
      "Clustersize: 19\n",
      "Clustersize: 20\n",
      "Clustersize: 21\n",
      "Clustersize: 22\n",
      "Clustersize: 23\n",
      "Clustersize: 24\n",
      "Clustersize: 25\n",
      "Clustersize: 26\n",
      "Clustersize: 27\n",
      "Clustersize: 28\n",
      "Clustersize: 29\n"
     ]
    }
   ],
   "source": [
    "for i in range(2,30):\n",
    "    print(f\"Clustersize: {i}\")\n",
    "    kmeans_cluster = TimeSeriesKMeans(n_clusters=i, metric=\"dtw\", n_init=3, n_jobs=-1)\n",
    "    kmeans_cluster.fit_predict(grouped_prosumption)\n",
    "    pickle.dump(kmeans_cluster, open(f\"clustering/kmeans_mean_timeslot_{i}.pkl\", \"wb\"))"
   ]
  },
  {
   "cell_type": "markdown",
   "metadata": {},
   "source": [
    "## DWT K-means Euclidean"
   ]
  },
  {
   "cell_type": "code",
   "execution_count": 24,
   "metadata": {},
   "outputs": [
    {
     "name": "stdout",
     "output_type": "stream",
     "text": [
      "Clustersize: 2\n",
      "Clustersize: 3\n",
      "Clustersize: 4\n",
      "Clustersize: 5\n",
      "Clustersize: 6\n",
      "Clustersize: 7\n",
      "Clustersize: 8\n",
      "Clustersize: 9\n",
      "Clustersize: 10\n",
      "Clustersize: 11\n",
      "Clustersize: 12\n",
      "Clustersize: 13\n",
      "Clustersize: 14\n",
      "Clustersize: 15\n",
      "Clustersize: 16\n",
      "Clustersize: 17\n",
      "Clustersize: 18\n",
      "Clustersize: 19\n",
      "Clustersize: 20\n",
      "Clustersize: 21\n",
      "Clustersize: 22\n",
      "Clustersize: 23\n",
      "Clustersize: 24\n",
      "Clustersize: 25\n",
      "Clustersize: 26\n",
      "Clustersize: 27\n",
      "Clustersize: 28\n",
      "Clustersize: 29\n"
     ]
    }
   ],
   "source": [
    "cluster_coeffs = np.empty((30, 48, 1))\n",
    "for i in range(0,30):\n",
    "    ts = grouped_prosumption[i].flatten() \n",
    "    low, high = pywt.dwt(ts, wavelet='db1')\n",
    "    cluster_coeffs[i] = np.concatenate((low.reshape(low.shape[0],1), high.reshape(high.shape[0],1)))\n",
    "for i in range(2,30):\n",
    "    print(f\"Clustersize: {i}\")\n",
    "    kmeans_cluster = TimeSeriesKMeans(n_clusters=i, metric=\"euclidean\", n_init=3, n_jobs=-1)\n",
    "    kmeans_cluster.fit_predict(cluster_coeffs)\n",
    "    pickle.dump(kmeans_cluster, open(f\"clustering/kmeans_mean_timeslot_coeffs_{i}.pkl\", \"wb\"))"
   ]
  },
  {
   "cell_type": "code",
   "execution_count": 25,
   "metadata": {},
   "outputs": [],
   "source": [
    "silhouette_scores = {}\n",
    "for i in range(2,30):\n",
    "    kmeans_cluster = pickle.load(open(f\"clustering/kmeans_mean_timeslot_{i}.pkl\", \"rb\"))\n",
    "    silhouette_scores[i] = silhouette_score(grouped_prosumption, kmeans_cluster.labels_, metric='dtw', n_jobs=-1)\n",
    "results['mean_timeslot'] = silhouette_scores.values()\n",
    "\n",
    "silhouette_scores = {}\n",
    "for i in range(2,30):\n",
    "    kmeans_cluster = pickle.load(open(f\"clustering/kmeans_mean_timeslot_coeffs_{i}.pkl\", \"rb\"))\n",
    "    silhouette_scores[i] = silhouette_score(grouped_prosumption, kmeans_cluster.labels_, metric='euclidean', n_jobs=-1)\n",
    "results['mean_timeslot_dwt'] = silhouette_scores.values()"
   ]
  },
  {
   "cell_type": "markdown",
   "metadata": {},
   "source": [
    "# Cluster #4 - Mean month -> timeslot"
   ]
  },
  {
   "cell_type": "code",
   "execution_count": 26,
   "metadata": {},
   "outputs": [],
   "source": [
    "cluster_data = data[(data['Date'].dt.year == 2010) | (data['Date'].dt.month <= 6) & (data['Date'].dt.year == 2011)]\n",
    "load_cluster = cluster_data[[\"load_1\",\"load_2\",\"load_3\",\"load_4\",\"load_5\",\"load_6\",\"load_7\",\"load_8\",\"load_9\",\"load_10\",\n",
    "                    \"load_11\",\"load_12\",\"load_13\",\"load_14\",\"load_15\",\"load_16\",\"load_17\",\"load_18\",\"load_19\",\"load_20\",\n",
    "                    \"load_21\",\"load_22\",\"load_23\",\"load_24\",\"load_25\",\"load_26\",\"load_27\",\"load_28\",\"load_29\",\"load_30\"]]\n",
    "pv_cluster = cluster_data[[\"pv_1\",\"pv_2\",\"pv_3\",\"pv_4\",\"pv_5\",\"pv_6\",\"pv_7\",\"pv_8\",\"pv_9\",\"pv_10\",\n",
    "                    \"pv_11\",\"pv_12\",\"pv_13\",\"pv_14\",\"pv_15\",\"pv_16\",\"pv_17\",\"pv_18\",\"pv_19\",\"pv_20\",\n",
    "                    \"pv_21\",\"pv_22\",\"pv_23\",\"pv_24\",\"pv_25\",\"pv_26\",\"pv_27\",\"pv_28\",\"pv_29\",\"pv_30\"]]\n",
    "cluster_prosumption = pd.DataFrame()\n",
    "cluster_prosumption.insert(0, 'Date', cluster_data['Date'], True)\n",
    "for col1, col2 in column_mapping.items():\n",
    "    cluster_prosumption[col1] = load_cluster[col1] - pv_cluster[col2]\n",
    "cluster_prosumption.rename(columns=rename_mapping, inplace=True)\n",
    "cluster_prosumption.insert(0, 'month', cluster_data['Date'].dt.month, True)\n",
    "cluster_prosumption.insert(1, 'timeslot', cluster_data['Date'].dt.time, True)\n",
    "cluster_prosumption.drop(columns=['Date'], inplace=True)\n",
    "grouped_prosumption = cluster_prosumption.groupby(['month', 'timeslot']).mean()\n",
    "grouped_prosumption = grouped_prosumption.reset_index(drop=True).transpose()\n",
    "grouped_prosumption = TimeSeriesScalerMinMax().fit_transform(grouped_prosumption.values.reshape((30,48*12,1)))"
   ]
  },
  {
   "cell_type": "code",
   "execution_count": 20,
   "metadata": {},
   "outputs": [
    {
     "name": "stdout",
     "output_type": "stream",
     "text": [
      "Clustersize: 2\n",
      "Clustersize: 3\n",
      "Clustersize: 4\n",
      "Clustersize: 5\n",
      "Clustersize: 6\n",
      "Clustersize: 7\n",
      "Clustersize: 8\n",
      "Clustersize: 9\n",
      "Clustersize: 10\n",
      "Clustersize: 11\n",
      "Clustersize: 12\n",
      "Clustersize: 13\n",
      "Clustersize: 14\n",
      "Clustersize: 15\n",
      "Clustersize: 16\n",
      "Clustersize: 17\n",
      "Clustersize: 18\n",
      "Clustersize: 19\n",
      "Clustersize: 20\n",
      "Clustersize: 21\n",
      "Clustersize: 22\n",
      "Clustersize: 23\n",
      "Clustersize: 24\n",
      "Clustersize: 25\n",
      "Clustersize: 26\n",
      "Clustersize: 27\n",
      "Clustersize: 28\n",
      "Clustersize: 29\n"
     ]
    }
   ],
   "source": [
    "for i in range(2,30):\n",
    "    print(f\"Clustersize: {i}\")\n",
    "    kmeans_cluster = TimeSeriesKMeans(n_clusters=i, metric=\"dtw\", n_init=3, n_jobs=-1)\n",
    "    kmeans_cluster.fit_predict(grouped_prosumption)\n",
    "    pickle.dump(kmeans_cluster, open(f\"clustering/kmeans_mean_month_{i}.pkl\", \"wb\"))"
   ]
  },
  {
   "cell_type": "code",
   "execution_count": 27,
   "metadata": {},
   "outputs": [
    {
     "name": "stdout",
     "output_type": "stream",
     "text": [
      "Clustersize: 2\n",
      "Clustersize: 3\n",
      "Clustersize: 4\n",
      "Clustersize: 5\n",
      "Clustersize: 6\n",
      "Clustersize: 7\n",
      "Clustersize: 8\n",
      "Clustersize: 9\n",
      "Clustersize: 10\n",
      "Clustersize: 11\n",
      "Clustersize: 12\n",
      "Clustersize: 13\n",
      "Clustersize: 14\n",
      "Clustersize: 15\n",
      "Clustersize: 16\n",
      "Clustersize: 17\n",
      "Clustersize: 18\n",
      "Clustersize: 19\n",
      "Clustersize: 20\n",
      "Clustersize: 21\n",
      "Clustersize: 22\n",
      "Clustersize: 23\n",
      "Clustersize: 24\n",
      "Clustersize: 25\n",
      "Clustersize: 26\n",
      "Clustersize: 27\n",
      "Clustersize: 28\n",
      "Clustersize: 29\n"
     ]
    }
   ],
   "source": [
    "cluster_coeffs = np.empty((30, 48*12, 1))\n",
    "for i in range(0,30):\n",
    "    ts = grouped_prosumption[i].flatten() \n",
    "    low, high = pywt.dwt(ts, wavelet='db1')\n",
    "    cluster_coeffs[i] = np.concatenate((low.reshape(low.shape[0],1), high.reshape(high.shape[0],1)))\n",
    "for i in range(2,30):\n",
    "    print(f\"Clustersize: {i}\")\n",
    "    kmeans_cluster = TimeSeriesKMeans(n_clusters=i, metric=\"euclidean\", n_init=3, n_jobs=-1)\n",
    "    kmeans_cluster.fit_predict(cluster_coeffs)\n",
    "    pickle.dump(kmeans_cluster, open(f\"clustering/kmeans_mean_month_coeffs_{i}.pkl\", \"wb\"))"
   ]
  },
  {
   "cell_type": "code",
   "execution_count": 28,
   "metadata": {},
   "outputs": [],
   "source": [
    "silhouette_scores = {}\n",
    "for i in range(2,30):\n",
    "    kmeans_cluster = pickle.load(open(f\"clustering/kmeans_mean_month_{i}.pkl\", \"rb\"))\n",
    "    silhouette_scores[i] = silhouette_score(grouped_prosumption, kmeans_cluster.labels_, metric='dtw', n_jobs=-1)\n",
    "results['mean_month'] = silhouette_scores.values()\n",
    "\n",
    "silhouette_scores = {}\n",
    "for i in range(2,30):\n",
    "    kmeans_cluster = pickle.load(open(f\"clustering/kmeans_mean_month_coeffs_{i}.pkl\", \"rb\"))\n",
    "    silhouette_scores[i] = silhouette_score(grouped_prosumption, kmeans_cluster.labels_, metric='euclidean', n_jobs=-1)\n",
    "results['mean_month_dwt'] = silhouette_scores.values()"
   ]
  },
  {
   "cell_type": "markdown",
   "metadata": {},
   "source": [
    "# Cluster #5 - Mean week -> timeslot"
   ]
  },
  {
   "cell_type": "code",
   "execution_count": 29,
   "metadata": {},
   "outputs": [],
   "source": [
    "cluster_data = data[(data['Date'].dt.year == 2010) | (data['Date'].dt.month <= 6) & (data['Date'].dt.year == 2011)]\n",
    "load_cluster = cluster_data[[\"load_1\",\"load_2\",\"load_3\",\"load_4\",\"load_5\",\"load_6\",\"load_7\",\"load_8\",\"load_9\",\"load_10\",\n",
    "                    \"load_11\",\"load_12\",\"load_13\",\"load_14\",\"load_15\",\"load_16\",\"load_17\",\"load_18\",\"load_19\",\"load_20\",\n",
    "                    \"load_21\",\"load_22\",\"load_23\",\"load_24\",\"load_25\",\"load_26\",\"load_27\",\"load_28\",\"load_29\",\"load_30\"]]\n",
    "pv_cluster = cluster_data[[\"pv_1\",\"pv_2\",\"pv_3\",\"pv_4\",\"pv_5\",\"pv_6\",\"pv_7\",\"pv_8\",\"pv_9\",\"pv_10\",\n",
    "                    \"pv_11\",\"pv_12\",\"pv_13\",\"pv_14\",\"pv_15\",\"pv_16\",\"pv_17\",\"pv_18\",\"pv_19\",\"pv_20\",\n",
    "                    \"pv_21\",\"pv_22\",\"pv_23\",\"pv_24\",\"pv_25\",\"pv_26\",\"pv_27\",\"pv_28\",\"pv_29\",\"pv_30\"]]\n",
    "cluster_prosumption = pd.DataFrame()\n",
    "cluster_prosumption.insert(0, 'Date', cluster_data['Date'], True)\n",
    "for col1, col2 in column_mapping.items():\n",
    "    cluster_prosumption[col1] = load_cluster[col1] - pv_cluster[col2]\n",
    "cluster_prosumption.rename(columns=rename_mapping, inplace=True)\n",
    "cluster_prosumption.insert(0, 'week', cluster_data['Date'].dt.isocalendar().week, True)\n",
    "cluster_prosumption.insert(1, 'timeslot', cluster_data['Date'].dt.time, True)\n",
    "cluster_prosumption.drop(columns=['Date'], inplace=True)\n",
    "grouped_prosumption = cluster_prosumption.groupby(['week', 'timeslot']).mean()\n",
    "grouped_prosumption = grouped_prosumption.reset_index(drop=True).transpose()\n",
    "grouped_prosumption = TimeSeriesScalerMinMax().fit_transform(grouped_prosumption.values.reshape((30,48*52,1)))"
   ]
  },
  {
   "cell_type": "code",
   "execution_count": 5,
   "metadata": {},
   "outputs": [
    {
     "name": "stdout",
     "output_type": "stream",
     "text": [
      "Clustersize: 17\n",
      "Clustersize: 18\n",
      "Clustersize: 19\n",
      "Clustersize: 20\n",
      "Clustersize: 21\n",
      "Clustersize: 22\n",
      "Clustersize: 23\n",
      "Clustersize: 24\n",
      "Clustersize: 25\n",
      "Clustersize: 26\n",
      "Clustersize: 27\n",
      "Clustersize: 28\n",
      "Clustersize: 29\n"
     ]
    }
   ],
   "source": [
    "for i in range(17,30):\n",
    "    print(f\"Clustersize: {i}\")\n",
    "    kmeans_cluster = TimeSeriesKMeans(n_clusters=i, metric=\"dtw\", n_init=3, n_jobs=-1)\n",
    "    kmeans_cluster.fit_predict(grouped_prosumption)\n",
    "    pickle.dump(kmeans_cluster, open(f\"clustering/kmeans_mean_week_{i}.pkl\", \"wb\"))"
   ]
  },
  {
   "cell_type": "code",
   "execution_count": 30,
   "metadata": {},
   "outputs": [
    {
     "name": "stdout",
     "output_type": "stream",
     "text": [
      "Clustersize: 2\n",
      "Clustersize: 3\n",
      "Clustersize: 4\n",
      "Clustersize: 5\n",
      "Clustersize: 6\n",
      "Clustersize: 7\n",
      "Clustersize: 8\n",
      "Clustersize: 9\n",
      "Clustersize: 10\n",
      "Clustersize: 11\n",
      "Clustersize: 12\n",
      "Clustersize: 13\n",
      "Clustersize: 14\n",
      "Clustersize: 15\n",
      "Clustersize: 16\n",
      "Clustersize: 17\n",
      "Clustersize: 18\n",
      "Clustersize: 19\n",
      "Clustersize: 20\n",
      "Clustersize: 21\n",
      "Clustersize: 22\n",
      "Clustersize: 23\n",
      "Clustersize: 24\n",
      "Clustersize: 25\n",
      "Clustersize: 26\n",
      "Clustersize: 27\n",
      "Clustersize: 28\n",
      "Clustersize: 29\n"
     ]
    }
   ],
   "source": [
    "cluster_coeffs = np.empty((30, 48*52, 1))\n",
    "for i in range(0,30):\n",
    "    ts = grouped_prosumption[i].flatten() \n",
    "    low, high = pywt.dwt(ts, wavelet='db1')\n",
    "    cluster_coeffs[i] = np.concatenate((low.reshape(low.shape[0],1), high.reshape(high.shape[0],1)))\n",
    "for i in range(2,30):\n",
    "    print(f\"Clustersize: {i}\")\n",
    "    kmeans_cluster = TimeSeriesKMeans(n_clusters=i, metric=\"euclidean\", n_init=3, n_jobs=-1)\n",
    "    kmeans_cluster.fit_predict(cluster_coeffs)\n",
    "    pickle.dump(kmeans_cluster, open(f\"clustering/kmeans_mean_week_coeffs_{i}.pkl\", \"wb\"))"
   ]
  },
  {
   "cell_type": "code",
   "execution_count": 31,
   "metadata": {},
   "outputs": [],
   "source": [
    "silhouette_scores = {}\n",
    "for i in range(2,30):\n",
    "    kmeans_cluster = pickle.load(open(f\"clustering/kmeans_mean_week_{i}.pkl\", \"rb\"))\n",
    "    silhouette_scores[i] = silhouette_score(grouped_prosumption, kmeans_cluster.labels_, metric='dtw', n_jobs=-1)\n",
    "results['mean_week'] = silhouette_scores.values()\n",
    "\n",
    "silhouette_scores = {}\n",
    "for i in range(2,30):\n",
    "    kmeans_cluster = pickle.load(open(f\"clustering/kmeans_mean_week_coeffs_{i}.pkl\", \"rb\"))\n",
    "    silhouette_scores[i] = silhouette_score(grouped_prosumption, kmeans_cluster.labels_, metric='euclidean', n_jobs=-1)\n",
    "results['mean_week_dwt'] = silhouette_scores.values()"
   ]
  },
  {
   "cell_type": "code",
   "execution_count": 32,
   "metadata": {},
   "outputs": [
    {
     "data": {
      "text/plain": [
       "<Axes: >"
      ]
     },
     "execution_count": 32,
     "metadata": {},
     "output_type": "execute_result"
    },
    {
     "data": {
      "image/png": "[encoded data removed]",
      "text/plain": [
       "<Figure size 640x480 with 1 Axes>"
      ]
     },
     "metadata": {},
     "output_type": "display_data"
    }
   ],
   "source": [
    "results.plot()"
   ]
  }
 ],
 "metadata": {
  "kernelspec": {
   "display_name": ".VENV",
   "language": "python",
   "name": "python3"
  },
  "language_info": {
   "codemirror_mode": {
    "name": "ipython",
    "version": 3
   },
   "file_extension": ".py",
   "mimetype": "text/x-python",
   "name": "python",
   "nbconvert_exporter": "python",
   "pygments_lexer": "ipython3",
   "version": "3.11.7"
  }
 },
 "nbformat": 4,
 "nbformat_minor": 2
}
